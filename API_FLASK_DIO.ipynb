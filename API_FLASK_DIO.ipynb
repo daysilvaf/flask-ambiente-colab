{
  "cells": [
    {
      "cell_type": "code",
      "execution_count": null,
      "metadata": {
        "colab": {
          "base_uri": "https://localhost:8080/"
        },
        "id": "2hXOwZw09b2S",
        "outputId": "d03d2386-5ca1-426a-a5ab-ffde626c502b"
      },
      "outputs": [
        {
          "name": "stdout",
          "output_type": "stream",
          "text": [
            "Looking in indexes: https://pypi.org/simple, https://us-python.pkg.dev/colab-wheels/public/simple/\n",
            "Collecting flask_ngrok\n",
            "  Downloading flask_ngrok-0.0.25-py3-none-any.whl (3.1 kB)\n",
            "Requirement already satisfied: Flask>=0.8 in /usr/local/lib/python3.7/dist-packages (from flask_ngrok) (1.1.4)\n",
            "Requirement already satisfied: requests in /usr/local/lib/python3.7/dist-packages (from flask_ngrok) (2.23.0)\n",
            "Requirement already satisfied: itsdangerous<2.0,>=0.24 in /usr/local/lib/python3.7/dist-packages (from Flask>=0.8->flask_ngrok) (1.1.0)\n",
            "Requirement already satisfied: Werkzeug<2.0,>=0.15 in /usr/local/lib/python3.7/dist-packages (from Flask>=0.8->flask_ngrok) (1.0.1)\n",
            "Requirement already satisfied: click<8.0,>=5.1 in /usr/local/lib/python3.7/dist-packages (from Flask>=0.8->flask_ngrok) (7.1.2)\n",
            "Requirement already satisfied: Jinja2<3.0,>=2.10.1 in /usr/local/lib/python3.7/dist-packages (from Flask>=0.8->flask_ngrok) (2.11.3)\n",
            "Requirement already satisfied: MarkupSafe>=0.23 in /usr/local/lib/python3.7/dist-packages (from Jinja2<3.0,>=2.10.1->Flask>=0.8->flask_ngrok) (2.0.1)\n",
            "Requirement already satisfied: certifi>=2017.4.17 in /usr/local/lib/python3.7/dist-packages (from requests->flask_ngrok) (2022.6.15)\n",
            "Requirement already satisfied: chardet<4,>=3.0.2 in /usr/local/lib/python3.7/dist-packages (from requests->flask_ngrok) (3.0.4)\n",
            "Requirement already satisfied: urllib3!=1.25.0,!=1.25.1,<1.26,>=1.21.1 in /usr/local/lib/python3.7/dist-packages (from requests->flask_ngrok) (1.24.3)\n",
            "Requirement already satisfied: idna<3,>=2.5 in /usr/local/lib/python3.7/dist-packages (from requests->flask_ngrok) (2.10)\n",
            "Installing collected packages: flask-ngrok\n",
            "Successfully installed flask-ngrok-0.0.25\n"
          ]
        }
      ],
      "source": [
        "!pip install flask_ngrok\n"
      ]
    },
    {
      "cell_type": "markdown",
      "metadata": {
        "id": "a0aPHPv9-ULV"
      },
      "source": [
        "Vamos importar as bibliotecas que usaremos,"
      ]
    },
    {
      "cell_type": "code",
      "execution_count": null,
      "metadata": {
        "id": "gd4BQZgY-Pod"
      },
      "outputs": [],
      "source": [
        "import pandas as pd\n",
        "from flask_ngrok import run_with_ngrok\n",
        "from flask import request, jsonify, Flask\n",
        "import random as rk"
      ]
    },
    {
      "cell_type": "markdown",
      "metadata": {
        "id": "tOnCSl4f-XgN"
      },
      "source": [
        "Bem, a maioria das bibliotecas vem pré-instalada. No entanto, se você perder algum, basta \"!pip install <nome da biblioteca que você está perdendo, sem este colchete angular fora do curso>\".\n",
        "Em seguida, definimos \"o nome do pacote de aplicativos\" e adicionamos \"run_with_ngrok(app)\" para disponibilizar seu aplicativo Flask ao executar"
      ]
    },
    {
      "cell_type": "code",
      "execution_count": null,
      "metadata": {
        "id": "rGXIGaaJ-eiY"
      },
      "outputs": [],
      "source": [
        "app = Flask(__name__) #the name of the application package\n",
        "run_with_ngrok(app)"
      ]
    },
    {
      "cell_type": "markdown",
      "metadata": {
        "id": "MEQWNUpk-gjX"
      },
      "source": [
        "Agora, vamos criar uma entrada para a API que estará na forma de um dicionário ou (JSON). Agora, a maioria de nós percebe que vemos arquivos ou dados JSON no formato JSON, mas não sabemos por quê. O motivo é que o JSON é extremamente leve para enviar e receber solicitações e respostas HTTP devido ao tamanho pequeno do arquivo. É fácil de ler em comparação com algo como XML, pois é muito mais limpo e não há tantas tags de abertura e fechamento para se preocupar. Então, se você não sabia, agora você sabe."
      ]
    },
    {
      "cell_type": "code",
      "execution_count": null,
      "metadata": {
        "id": "4tFgZzp--mUA"
      },
      "outputs": [],
      "source": [
        "d = {\n",
        "    \"name\": \"Nikola\",\n",
        "    \"surname\": \"Tesla\",\n",
        "    \"idade\": 60\n",
        "      }"
      ]
    },
    {
      "cell_type": "markdown",
      "metadata": {
        "id": "U7TgNyPK-qjA"
      },
      "source": [
        "Então, terminamos com a entrada. Agora, vamos ver o que queremos colocar em nossa página inicial. Para fazer isso, escreveremos uma função chamada \"home\", mas antes de definir a função, precisamos adicionar uma linha de código para atribuir URLs em nosso aplicativo à função conhecida como \"Roteamento de aplicativo\". O roteamento de aplicativo é usado para mapear a URL específica com a função associada que se destina a executar alguma tarefa. Ele é usado para acessar alguma página específica no aplicativo da web."
      ]
    },
    {
      "cell_type": "code",
      "execution_count": null,
      "metadata": {
        "id": "gQ8XIb3e-xn-"
      },
      "outputs": [],
      "source": [
        "@app.route(\"/\") #code to assign HomePage URL in our app to function home.\n",
        "\n",
        "def home():\n",
        "  '''\n",
        "  The entire line below must be written in a single line.\n",
        "  '''\n",
        "  return \"<marquee><h3> TO CHECK IN PUT ADD '/input' TO THE URL AND TO CHECK OUT PUT ADD '/output' TO THE URL.</h3></marquee>\""
      ]
    },
    {
      "cell_type": "markdown",
      "metadata": {
        "id": "eFcHpfPA-2II"
      },
      "source": [
        "No código acima, adicionei a tag <marquee>, que faz o texto rolar para cima, para baixo, para a esquerda ou para a direita automaticamente. Agora, se você quiser verificar sua entrada, basta colocar o '/input' no final da url ou link como diz o código e, da mesma forma, se você quiser verificar sua saída, basta colocar o '/output' em o final da url ou link.\n",
        "Da mesma forma, vamos fazer uma função para receber nossa entrada e atribuir uma rota de aplicativo separada à função."
      ]
    },
    {
      "cell_type": "code",
      "execution_count": null,
      "metadata": {
        "id": "RhOB_8NI-3x2"
      },
      "outputs": [],
      "source": [
        "@app.route(\"/input\") #code to assign Input URL in our app to function input.\n",
        "\n",
        "def input():\n",
        "  return jsonify(d) # \"d\" is the dictionary we defined"
      ]
    },
    {
      "cell_type": "markdown",
      "metadata": {
        "id": "rriUTGIR-9gf"
      },
      "source": [
        "Vejamos a página de saída. Há um pequeno jogo de terminologia agora. Você notará dois novos convidados em nosso código, \"GET\" e \"POST\". Bem, existem vários sites por aí com sua própria versão de explicação para esses dois métodos. No entanto, apenas para simplificar, \"GET\" é usado para solicitar dados de um recurso especificado e \"POST\" é usado para enviar dados a um servidor para criar/atualizar um recurso. Esses são dois dos métodos mais comuns de HTTP.\n",
        "Assim como a página \"home\" e \"input\", agora fazemos nossa página de \"output\". Se você olhar para a segunda linha, eu defini uma variável chamada \"pred\" que recebe qualquer opção aleatória da lista, \"[\"positivo\",\"negativo\"]\". Suponha que, se você estiver trabalhando em um problema de aprendizado de máquina e precisar gerar uma previsão com base na entrada, basta substituir a função \"r.choice()\" que usamos para definir uma variável chamada \"pred\" pela função que faz a previsão com a entrada."
      ]
    },
    {
      "cell_type": "code",
      "execution_count": null,
      "metadata": {
        "colab": {
          "background_save": true,
          "base_uri": "https://localhost:8080/"
        },
        "id": "leQIwJoF_Aal",
        "outputId": "426c7846-dd09-4405-f6e3-3de2aeb6a694"
      },
      "outputs": [
        {
          "name": "stdout",
          "output_type": "stream",
          "text": [
            " * Serving Flask app \"__main__\" (lazy loading)\n",
            " * Environment: production\n",
            "\u001b[31m   WARNING: This is a development server. Do not use it in a production deployment.\u001b[0m\n",
            "\u001b[2m   Use a production WSGI server instead.\u001b[0m\n",
            " * Debug mode: off\n"
          ]
        },
        {
          "name": "stderr",
          "output_type": "stream",
          "text": [
            "INFO:werkzeug: * Running on http://127.0.0.1:5000/ (Press CTRL+C to quit)\n"
          ]
        },
        {
          "name": "stdout",
          "output_type": "stream",
          "text": [
            " * Running on http://751a-35-231-173-245.ngrok.io\n",
            " * Traffic stats available on http://127.0.0.1:4040\n"
          ]
        },
        {
          "name": "stderr",
          "output_type": "stream",
          "text": [
            "INFO:werkzeug:127.0.0.1 - - [28/Sep/2022 16:48:25] \"\u001b[37mGET / HTTP/1.1\u001b[0m\" 200 -\n",
            "INFO:werkzeug:127.0.0.1 - - [28/Sep/2022 16:48:26] \"\u001b[33mGET /favicon.ico HTTP/1.1\u001b[0m\" 404 -\n"
          ]
        }
      ],
      "source": [
        "@app.route('/output', methods=['GET','POST']) #output page\n",
        "\n",
        "def predJson():\n",
        " pred = r.choice([\"positive\",\"negative\"])\n",
        " nd = d # our input\n",
        " nd[\"prediction\"]=pred\n",
        " return jsonify(nd)\n",
        "\n",
        "app.run()"
      ]
    }
  ],
  "metadata": {
    "colab": {
      "provenance": []
    },
    "kernelspec": {
      "display_name": "Python 3",
      "name": "python3"
    },
    "language_info": {
      "name": "python"
    }
  },
  "nbformat": 4,
  "nbformat_minor": 0
}